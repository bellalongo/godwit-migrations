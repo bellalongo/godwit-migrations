{
 "cells": [
  {
   "cell_type": "markdown",
   "id": "30a6f429-04fc-4db0-85dc-a6c854671c2b",
   "metadata": {},
   "source": [
    "### Goal: \n",
    "Use Kmeans to put the birds into two groups, temperature when leaving where they migrate to, and temperature when leaving to go back home"
   ]
  },
  {
   "cell_type": "code",
   "execution_count": 1,
   "id": "d1a5d31f-042d-46f3-9c01-e9975f667775",
   "metadata": {},
   "outputs": [],
   "source": [
    "import pandas as pd\n",
    "import time\n",
    "import pandas as pd\n",
    "import requests\n",
    "import numpy as np\n",
    "from scipy.stats import multivariate_normal\n",
    "import matplotlib.pyplot as plt\n",
    "import seaborn as sns\n",
    "import random\n",
    "from matplotlib.patches import Patch\n",
    "from mpl_toolkits.basemap import Basemap"
   ]
  },
  {
   "cell_type": "markdown",
   "id": "da65cabf-38cb-49b9-8054-b82cc7934a12",
   "metadata": {},
   "source": [
    " "
   ]
  },
  {
   "cell_type": "markdown",
   "id": "7b1ad5ef-55d9-4ca1-925c-37afc3484f36",
   "metadata": {},
   "source": [
    "### Data Preprocessing "
   ]
  },
  {
   "cell_type": "code",
   "execution_count": 2,
   "id": "cf3deb9a-aa5d-4ceb-982e-19269a4b239f",
   "metadata": {},
   "outputs": [
    {
     "data": {
      "text/html": [
       "<div>\n",
       "<style scoped>\n",
       "    .dataframe tbody tr th:only-of-type {\n",
       "        vertical-align: middle;\n",
       "    }\n",
       "\n",
       "    .dataframe tbody tr th {\n",
       "        vertical-align: top;\n",
       "    }\n",
       "\n",
       "    .dataframe thead th {\n",
       "        text-align: right;\n",
       "    }\n",
       "</style>\n",
       "<table border=\"1\" class=\"dataframe\">\n",
       "  <thead>\n",
       "    <tr style=\"text-align: right;\">\n",
       "      <th></th>\n",
       "      <th>Sort_Order</th>\n",
       "      <th>Animal_ID</th>\n",
       "      <th>Year</th>\n",
       "      <th>Season</th>\n",
       "      <th>Departure_UTC</th>\n",
       "      <th>Arrival_UTC</th>\n",
       "      <th>Departure_Local</th>\n",
       "      <th>Arrival_Local</th>\n",
       "      <th>Flight_Duration_Hours</th>\n",
       "      <th>Stage</th>\n",
       "      <th>Overall_Duration_Days</th>\n",
       "      <th>Final_Destination</th>\n",
       "      <th>Departure_Site</th>\n",
       "      <th>Arrival_Site</th>\n",
       "      <th>Stay_Duration_Hours</th>\n",
       "    </tr>\n",
       "  </thead>\n",
       "  <tbody>\n",
       "    <tr>\n",
       "      <th>0</th>\n",
       "      <td>1</td>\n",
       "      <td>MAGO_1A</td>\n",
       "      <td>2008</td>\n",
       "      <td>fall</td>\n",
       "      <td>8/7/2008 3:31</td>\n",
       "      <td>8/9/2008 14:53</td>\n",
       "      <td>8/6/2008 18:31</td>\n",
       "      <td>8/9/2008 6:53</td>\n",
       "      <td>59.36</td>\n",
       "      <td>S1</td>\n",
       "      <td>2.47</td>\n",
       "      <td>Y</td>\n",
       "      <td>ugashik</td>\n",
       "      <td>willapa</td>\n",
       "      <td>NaN</td>\n",
       "    </tr>\n",
       "    <tr>\n",
       "      <th>1</th>\n",
       "      <td>2</td>\n",
       "      <td>MAGO_2A</td>\n",
       "      <td>2008</td>\n",
       "      <td>fall</td>\n",
       "      <td>7/20/2008 2:17</td>\n",
       "      <td>7/22/2008 4:37</td>\n",
       "      <td>7/19/2008 17:17</td>\n",
       "      <td>7/21/2008 20:37</td>\n",
       "      <td>50.33</td>\n",
       "      <td>S1</td>\n",
       "      <td>2.10</td>\n",
       "      <td>Y</td>\n",
       "      <td>ugashik</td>\n",
       "      <td>bodega</td>\n",
       "      <td>6854.67</td>\n",
       "    </tr>\n",
       "    <tr>\n",
       "      <th>2</th>\n",
       "      <td>3</td>\n",
       "      <td>MAGO_2A</td>\n",
       "      <td>2009</td>\n",
       "      <td>spring</td>\n",
       "      <td>5/3/2009 19:17</td>\n",
       "      <td>5/6/2009 0:19</td>\n",
       "      <td>5/3/2009 11:17</td>\n",
       "      <td>5/5/2009 15:19</td>\n",
       "      <td>53.02</td>\n",
       "      <td>N1</td>\n",
       "      <td>NaN</td>\n",
       "      <td>N</td>\n",
       "      <td>bodega</td>\n",
       "      <td>controller</td>\n",
       "      <td>58.99</td>\n",
       "    </tr>\n",
       "  </tbody>\n",
       "</table>\n",
       "</div>"
      ],
      "text/plain": [
       "   Sort_Order Animal_ID  Year  Season   Departure_UTC     Arrival_UTC  \\\n",
       "0           1   MAGO_1A  2008    fall   8/7/2008 3:31  8/9/2008 14:53   \n",
       "1           2   MAGO_2A  2008    fall  7/20/2008 2:17  7/22/2008 4:37   \n",
       "2           3   MAGO_2A  2009  spring  5/3/2009 19:17   5/6/2009 0:19   \n",
       "\n",
       "   Departure_Local    Arrival_Local  Flight_Duration_Hours Stage  \\\n",
       "0   8/6/2008 18:31    8/9/2008 6:53                  59.36    S1   \n",
       "1  7/19/2008 17:17  7/21/2008 20:37                  50.33    S1   \n",
       "2   5/3/2009 11:17   5/5/2009 15:19                  53.02    N1   \n",
       "\n",
       "   Overall_Duration_Days Final_Destination Departure_Site Arrival_Site  \\\n",
       "0                   2.47                 Y        ugashik      willapa   \n",
       "1                   2.10                 Y        ugashik       bodega   \n",
       "2                    NaN                 N         bodega   controller   \n",
       "\n",
       "   Stay_Duration_Hours  \n",
       "0                  NaN  \n",
       "1              6854.67  \n",
       "2                58.99  "
      ]
     },
     "execution_count": 2,
     "metadata": {},
     "output_type": "execute_result"
    }
   ],
   "source": [
    "migration_df = pd.read_csv('migrationTimingSiteUse_2008_2015/marbledGodwit_migration_ugashik_ruthrauff.csv')\n",
    "migration_df.head(3)"
   ]
  },
  {
   "cell_type": "code",
   "execution_count": 3,
   "id": "98cd8b7c-98d3-483c-87e8-7a8aeae669ca",
   "metadata": {},
   "outputs": [
    {
     "data": {
      "text/html": [
       "<div>\n",
       "<style scoped>\n",
       "    .dataframe tbody tr th:only-of-type {\n",
       "        vertical-align: middle;\n",
       "    }\n",
       "\n",
       "    .dataframe tbody tr th {\n",
       "        vertical-align: top;\n",
       "    }\n",
       "\n",
       "    .dataframe thead th {\n",
       "        text-align: right;\n",
       "    }\n",
       "</style>\n",
       "<table border=\"1\" class=\"dataframe\">\n",
       "  <thead>\n",
       "    <tr style=\"text-align: right;\">\n",
       "      <th></th>\n",
       "      <th>index</th>\n",
       "      <th>Departure_UTC</th>\n",
       "      <th>Departure_Site</th>\n",
       "    </tr>\n",
       "  </thead>\n",
       "  <tbody>\n",
       "    <tr>\n",
       "      <th>0</th>\n",
       "      <td>0</td>\n",
       "      <td>8/7/2008 3:31</td>\n",
       "      <td>ugashik</td>\n",
       "    </tr>\n",
       "    <tr>\n",
       "      <th>1</th>\n",
       "      <td>1</td>\n",
       "      <td>7/20/2008 2:17</td>\n",
       "      <td>ugashik</td>\n",
       "    </tr>\n",
       "    <tr>\n",
       "      <th>2</th>\n",
       "      <td>2</td>\n",
       "      <td>5/3/2009 19:17</td>\n",
       "      <td>bodega</td>\n",
       "    </tr>\n",
       "  </tbody>\n",
       "</table>\n",
       "</div>"
      ],
      "text/plain": [
       "   index   Departure_UTC Departure_Site\n",
       "0      0   8/7/2008 3:31        ugashik\n",
       "1      1  7/20/2008 2:17        ugashik\n",
       "2      2  5/3/2009 19:17         bodega"
      ]
     },
     "execution_count": 3,
     "metadata": {},
     "output_type": "execute_result"
    }
   ],
   "source": [
    "# Filter the dataframe to only store data if the flight stage is S1 or N1 (the bird is leaving)\n",
    "filtered_migration_df = migration_df[(migration_df['Stage'] == 'S1') | (migration_df['Stage'] == 'N1')].loc[:, ['Departure_UTC', 'Departure_Site']].reset_index()\n",
    "filtered_migration_df.head(3)"
   ]
  },
  {
   "cell_type": "code",
   "execution_count": 4,
   "id": "7b8c2373-7f29-4b64-86a4-8b871f5e387b",
   "metadata": {},
   "outputs": [],
   "source": [
    "# Get latitude and longitude of deperature sites (from google)\n",
    "deperature_lat_lon = {\n",
    "    'ugashik': (57.5577, 157.6269),\n",
    "    'bodega': (38.3332, 23.0481),\n",
    "    'humboldt': (40.7195, 124.2426), \n",
    "    'moss': (36.8058, 121.7902),\n",
    "    'bolinas_ocean': (37.8965, 122.6786)\n",
    "}"
   ]
  },
  {
   "cell_type": "code",
   "execution_count": 5,
   "id": "a98854d5-3c1f-4109-ae25-e28af00c5bdc",
   "metadata": {},
   "outputs": [
    {
     "data": {
      "text/html": [
       "<div>\n",
       "<style scoped>\n",
       "    .dataframe tbody tr th:only-of-type {\n",
       "        vertical-align: middle;\n",
       "    }\n",
       "\n",
       "    .dataframe tbody tr th {\n",
       "        vertical-align: top;\n",
       "    }\n",
       "\n",
       "    .dataframe thead th {\n",
       "        text-align: right;\n",
       "    }\n",
       "</style>\n",
       "<table border=\"1\" class=\"dataframe\">\n",
       "  <thead>\n",
       "    <tr style=\"text-align: right;\">\n",
       "      <th></th>\n",
       "      <th>index</th>\n",
       "      <th>Departure_UTC</th>\n",
       "      <th>Departure_Site</th>\n",
       "      <th>Departure_Latitude</th>\n",
       "      <th>Departure_Longitude</th>\n",
       "    </tr>\n",
       "  </thead>\n",
       "  <tbody>\n",
       "    <tr>\n",
       "      <th>0</th>\n",
       "      <td>0</td>\n",
       "      <td>8/7/2008 3:31</td>\n",
       "      <td>ugashik</td>\n",
       "      <td>57.5577</td>\n",
       "      <td>157.6269</td>\n",
       "    </tr>\n",
       "    <tr>\n",
       "      <th>1</th>\n",
       "      <td>1</td>\n",
       "      <td>7/20/2008 2:17</td>\n",
       "      <td>ugashik</td>\n",
       "      <td>57.5577</td>\n",
       "      <td>157.6269</td>\n",
       "    </tr>\n",
       "    <tr>\n",
       "      <th>2</th>\n",
       "      <td>2</td>\n",
       "      <td>5/3/2009 19:17</td>\n",
       "      <td>bodega</td>\n",
       "      <td>38.3332</td>\n",
       "      <td>23.0481</td>\n",
       "    </tr>\n",
       "  </tbody>\n",
       "</table>\n",
       "</div>"
      ],
      "text/plain": [
       "   index   Departure_UTC Departure_Site  Departure_Latitude  \\\n",
       "0      0   8/7/2008 3:31        ugashik             57.5577   \n",
       "1      1  7/20/2008 2:17        ugashik             57.5577   \n",
       "2      2  5/3/2009 19:17         bodega             38.3332   \n",
       "\n",
       "   Departure_Longitude  \n",
       "0             157.6269  \n",
       "1             157.6269  \n",
       "2              23.0481  "
      ]
     },
     "execution_count": 5,
     "metadata": {},
     "output_type": "execute_result"
    }
   ],
   "source": [
    "# Map the deperature side to its matching latitude and longitude \n",
    "filtered_migration_df['Departure_Latitude'] = filtered_migration_df['Departure_Site'].map(lambda x: deperature_lat_lon[x][0])\n",
    "filtered_migration_df['Departure_Longitude'] = filtered_migration_df['Departure_Site'].map(lambda x: deperature_lat_lon[x][1])\n",
    "filtered_migration_df.head(3)"
   ]
  },
  {
   "cell_type": "code",
   "execution_count": 6,
   "id": "14a5d718-53fc-4ff9-b065-561cb1d8ec3f",
   "metadata": {},
   "outputs": [
    {
     "data": {
      "text/html": [
       "<div>\n",
       "<style scoped>\n",
       "    .dataframe tbody tr th:only-of-type {\n",
       "        vertical-align: middle;\n",
       "    }\n",
       "\n",
       "    .dataframe tbody tr th {\n",
       "        vertical-align: top;\n",
       "    }\n",
       "\n",
       "    .dataframe thead th {\n",
       "        text-align: right;\n",
       "    }\n",
       "</style>\n",
       "<table border=\"1\" class=\"dataframe\">\n",
       "  <thead>\n",
       "    <tr style=\"text-align: right;\">\n",
       "      <th></th>\n",
       "      <th>index</th>\n",
       "      <th>Departure_UTC</th>\n",
       "      <th>Departure_Site</th>\n",
       "      <th>Departure_Latitude</th>\n",
       "      <th>Departure_Longitude</th>\n",
       "    </tr>\n",
       "  </thead>\n",
       "  <tbody>\n",
       "    <tr>\n",
       "      <th>0</th>\n",
       "      <td>0</td>\n",
       "      <td>2008-08-07 03:31:00</td>\n",
       "      <td>ugashik</td>\n",
       "      <td>57.5577</td>\n",
       "      <td>157.6269</td>\n",
       "    </tr>\n",
       "    <tr>\n",
       "      <th>1</th>\n",
       "      <td>1</td>\n",
       "      <td>2008-07-20 02:17:00</td>\n",
       "      <td>ugashik</td>\n",
       "      <td>57.5577</td>\n",
       "      <td>157.6269</td>\n",
       "    </tr>\n",
       "    <tr>\n",
       "      <th>2</th>\n",
       "      <td>2</td>\n",
       "      <td>2009-05-03 19:17:00</td>\n",
       "      <td>bodega</td>\n",
       "      <td>38.3332</td>\n",
       "      <td>23.0481</td>\n",
       "    </tr>\n",
       "  </tbody>\n",
       "</table>\n",
       "</div>"
      ],
      "text/plain": [
       "   index       Departure_UTC Departure_Site  Departure_Latitude  \\\n",
       "0      0 2008-08-07 03:31:00        ugashik             57.5577   \n",
       "1      1 2008-07-20 02:17:00        ugashik             57.5577   \n",
       "2      2 2009-05-03 19:17:00         bodega             38.3332   \n",
       "\n",
       "   Departure_Longitude  \n",
       "0             157.6269  \n",
       "1             157.6269  \n",
       "2              23.0481  "
      ]
     },
     "execution_count": 6,
     "metadata": {},
     "output_type": "execute_result"
    }
   ],
   "source": [
    "# Convert the deperature time to UTC\n",
    "filtered_migration_df['Departure_UTC'] = pd.to_datetime(filtered_migration_df['Departure_UTC'])\n",
    "filtered_migration_df.head(3)"
   ]
  },
  {
   "cell_type": "markdown",
   "id": "f1e49c8d-590d-469a-aba6-8334868e442a",
   "metadata": {},
   "source": [
    "API code from: https://rapidapi.com/meteostat/api/meteostat/"
   ]
  },
  {
   "cell_type": "markdown",
   "id": "6bb047be-db06-4b7f-a380-06941e536a72",
   "metadata": {},
   "source": [
    "**PLEASE only run me once**"
   ]
  },
  {
   "cell_type": "code",
   "execution_count": 7,
   "id": "0592c806-aa8c-4946-b397-110afdaa49b0",
   "metadata": {},
   "outputs": [],
   "source": [
    "# Function to get average temperature for a given location and date range\n",
    "def get_temperature_data(lat, lon, start_date, end_date):\n",
    "    # API url\n",
    "    url = \"https://meteostat.p.rapidapi.com/point/daily\"\n",
    "\n",
    "    querystring = {\n",
    "        \"lat\": lat,\n",
    "        \"lon\": lon,\n",
    "        \"start\": start_date,\n",
    "        \"end\": end_date\n",
    "    }\n",
    "\n",
    "    headers = {\n",
    "        'X-RapidAPI-Key': \"dce607584dmsh5c8a13db16ffb10p1ada3djsnd4ed56a6987e\",\n",
    "        'X-RapidAPI-Host': \"meteostat.p.rapidapi.com\"\n",
    "    }\n",
    "\n",
    "    try: \n",
    "        # API call\n",
    "        response = requests.get(url, headers=headers, params=querystring)\n",
    "        data = response.json()['data']\n",
    "        return data\n",
    "\n",
    "    except Exception as e:\n",
    "        print(f\"Error: {e}\")\n",
    "        return None"
   ]
  },
  {
   "cell_type": "code",
   "execution_count": 8,
   "id": "3979bad9-06a6-4ba7-9595-c9fb981002f0",
   "metadata": {},
   "outputs": [],
   "source": [
    "# Get the temperature data\n",
    "temp_data = []\n",
    "\n",
    "# Iterate through each row \n",
    "for i, row in filtered_migration_df.iterrows():\n",
    "    # Add row data\n",
    "    lat = row['Departure_Latitude']\n",
    "    lon = row['Departure_Longitude']\n",
    "    start_time = (row['Departure_UTC'] - pd.Timedelta(days=10)).strftime('%Y-%m-%d')\n",
    "    end_time = (row['Departure_UTC']).strftime('%Y-%m-%d')\n",
    "\n",
    "    # Call API to get data up to -10 days away\n",
    "    curr_temp_data = get_temperature_data(lat, lon, start_time, end_time)\n",
    "    temp_data.append(curr_temp_data)"
   ]
  },
  {
   "cell_type": "code",
   "execution_count": 9,
   "id": "5c9892da-9e03-451c-b2e9-8017cf34b9e3",
   "metadata": {},
   "outputs": [],
   "source": [
    "# Convert temp_data to a pandas data frame\n",
    "all_data = []\n",
    "csv_data = []\n",
    "\n",
    "# Iterate through temp data\n",
    "for group in temp_data:\n",
    "    # Store feature data\n",
    "    feature_data = []\n",
    "    # Check if data exists\n",
    "    if group:\n",
    "        for day in group:\n",
    "            csv_data.append(day)\n",
    "            # Check if data exists (again)\n",
    "            if day['tmin']:\n",
    "                feature_data.append(day['tmin'])\n",
    "\n",
    "        feature = sum(feature_data)/len(feature_data)\n",
    "        all_data.append((day['date'], feature))\n",
    "\n",
    "# Add 10 day average min to dataframe\n",
    "temp_df = pd.DataFrame(all_data, columns = ['date', 'average_min'])\n",
    "temp_df['month'] = pd.to_datetime(temp_df['date']).dt.month\n",
    "\n",
    "# Convert to csv for safe keeping\n",
    "df = pd.DataFrame(csv_data)\n",
    "df.to_csv('temperature_data.csv', index=False)"
   ]
  },
  {
   "cell_type": "code",
   "execution_count": 19,
   "id": "236fc0dd-f4b4-471d-bfd9-e556600b5e25",
   "metadata": {},
   "outputs": [
    {
     "data": {
      "text/html": [
       "<div>\n",
       "<style scoped>\n",
       "    .dataframe tbody tr th:only-of-type {\n",
       "        vertical-align: middle;\n",
       "    }\n",
       "\n",
       "    .dataframe tbody tr th {\n",
       "        vertical-align: top;\n",
       "    }\n",
       "\n",
       "    .dataframe thead th {\n",
       "        text-align: right;\n",
       "    }\n",
       "</style>\n",
       "<table border=\"1\" class=\"dataframe\">\n",
       "  <thead>\n",
       "    <tr style=\"text-align: right;\">\n",
       "      <th></th>\n",
       "      <th>date</th>\n",
       "      <th>average_min</th>\n",
       "      <th>month</th>\n",
       "    </tr>\n",
       "  </thead>\n",
       "  <tbody>\n",
       "    <tr>\n",
       "      <th>0</th>\n",
       "      <td>2008-08-07</td>\n",
       "      <td>11.981818</td>\n",
       "      <td>8</td>\n",
       "    </tr>\n",
       "    <tr>\n",
       "      <th>1</th>\n",
       "      <td>2008-07-20</td>\n",
       "      <td>7.863636</td>\n",
       "      <td>7</td>\n",
       "    </tr>\n",
       "    <tr>\n",
       "      <th>2</th>\n",
       "      <td>2009-05-03</td>\n",
       "      <td>10.254545</td>\n",
       "      <td>5</td>\n",
       "    </tr>\n",
       "  </tbody>\n",
       "</table>\n",
       "</div>"
      ],
      "text/plain": [
       "         date  average_min  month\n",
       "0  2008-08-07    11.981818      8\n",
       "1  2008-07-20     7.863636      7\n",
       "2  2009-05-03    10.254545      5"
      ]
     },
     "execution_count": 19,
     "metadata": {},
     "output_type": "execute_result"
    }
   ],
   "source": [
    "# Temp dataframe example\n",
    "temp_df.head(3)"
   ]
  },
  {
   "cell_type": "code",
   "execution_count": 11,
   "id": "c6a4685d-db16-4ab5-9cdf-fb3abcf92730",
   "metadata": {},
   "outputs": [
    {
     "name": "stderr",
     "output_type": "stream",
     "text": [
      "/Users/bella/anaconda3/envs/adv_ds_ENV/lib/python3.12/site-packages/seaborn/_oldcore.py:1119: FutureWarning: use_inf_as_na option is deprecated and will be removed in a future version. Convert inf values to NaN before operating instead.\n",
      "  with pd.option_context('mode.use_inf_as_na', True):\n",
      "/Users/bella/anaconda3/envs/adv_ds_ENV/lib/python3.12/site-packages/seaborn/_oldcore.py:1119: FutureWarning: use_inf_as_na option is deprecated and will be removed in a future version. Convert inf values to NaN before operating instead.\n",
      "  with pd.option_context('mode.use_inf_as_na', True):\n",
      "/Users/bella/anaconda3/envs/adv_ds_ENV/lib/python3.12/site-packages/seaborn/_oldcore.py:1119: FutureWarning: use_inf_as_na option is deprecated and will be removed in a future version. Convert inf values to NaN before operating instead.\n",
      "  with pd.option_context('mode.use_inf_as_na', True):\n",
      "/Users/bella/anaconda3/envs/adv_ds_ENV/lib/python3.12/site-packages/seaborn/axisgrid.py:848: UserWarning: Dataset has 0 variance; skipping density estimate. Pass `warn_singular=False` to disable this warning.\n",
      "  func(*plot_args, **plot_kwargs)\n",
      "/Users/bella/anaconda3/envs/adv_ds_ENV/lib/python3.12/site-packages/seaborn/_oldcore.py:1119: FutureWarning: use_inf_as_na option is deprecated and will be removed in a future version. Convert inf values to NaN before operating instead.\n",
      "  with pd.option_context('mode.use_inf_as_na', True):\n",
      "/Users/bella/anaconda3/envs/adv_ds_ENV/lib/python3.12/site-packages/seaborn/_oldcore.py:1119: FutureWarning: use_inf_as_na option is deprecated and will be removed in a future version. Convert inf values to NaN before operating instead.\n",
      "  with pd.option_context('mode.use_inf_as_na', True):\n",
      "/Users/bella/anaconda3/envs/adv_ds_ENV/lib/python3.12/site-packages/seaborn/_oldcore.py:1119: FutureWarning: use_inf_as_na option is deprecated and will be removed in a future version. Convert inf values to NaN before operating instead.\n",
      "  with pd.option_context('mode.use_inf_as_na', True):\n",
      "/Users/bella/anaconda3/envs/adv_ds_ENV/lib/python3.12/site-packages/seaborn/_oldcore.py:1119: FutureWarning: use_inf_as_na option is deprecated and will be removed in a future version. Convert inf values to NaN before operating instead.\n",
      "  with pd.option_context('mode.use_inf_as_na', True):\n",
      "/Users/bella/anaconda3/envs/adv_ds_ENV/lib/python3.12/site-packages/seaborn/_oldcore.py:1119: FutureWarning: use_inf_as_na option is deprecated and will be removed in a future version. Convert inf values to NaN before operating instead.\n",
      "  with pd.option_context('mode.use_inf_as_na', True):\n",
      "/Users/bella/anaconda3/envs/adv_ds_ENV/lib/python3.12/site-packages/seaborn/axisgrid.py:848: UserWarning: Dataset has 0 variance; skipping density estimate. Pass `warn_singular=False` to disable this warning.\n",
      "  func(*plot_args, **plot_kwargs)\n",
      "/Users/bella/anaconda3/envs/adv_ds_ENV/lib/python3.12/site-packages/seaborn/_oldcore.py:1119: FutureWarning: use_inf_as_na option is deprecated and will be removed in a future version. Convert inf values to NaN before operating instead.\n",
      "  with pd.option_context('mode.use_inf_as_na', True):\n",
      "/Users/bella/anaconda3/envs/adv_ds_ENV/lib/python3.12/site-packages/seaborn/_oldcore.py:1119: FutureWarning: use_inf_as_na option is deprecated and will be removed in a future version. Convert inf values to NaN before operating instead.\n",
      "  with pd.option_context('mode.use_inf_as_na', True):\n"
     ]
    },
    {
     "data": {
      "image/png": "[encoded data removed]",
      "text/plain": [
       "<Figure size 1125x375 with 5 Axes>"
      ]
     },
     "metadata": {},
     "output_type": "display_data"
    }
   ],
   "source": [
    "# Source: https://python-graph-gallery.com/ridgeline-graph-seaborn/\n",
    "sns.set_theme(style=\"white\", rc={\"axes.facecolor\": (0, 0, 0, 0)})\n",
    "pal = sns.color_palette(palette='coolwarm', n_colors=5)\n",
    "\n",
    "# Define dictionaries to make plot pretty\n",
    "month_dict = {4: 'April', 5: 'May', 6: 'June', 7: 'July', 8: 'August'}\n",
    "\n",
    "# Plot outline\n",
    "g = sns.FacetGrid(temp_df, row='month', aspect=15, height=0.75, palette=pal, hue='month')\n",
    "g.map(sns.kdeplot, 'average_min', bw_adjust=1, clip_on=False, fill=True, alpha=1, linewidth=1.5)\n",
    "g.map(sns.kdeplot, 'average_min', bw_adjust=1, clip_on=False, color=\"w\", lw=2)\n",
    "g.map(plt.axhline, y=0, lw=2, clip_on=False)\n",
    "\n",
    "# Add month names to plot\n",
    "for i, ax in enumerate(g.axes.flat):\n",
    "    ax.text(-0.5, 0.02, month_dict[i+4], fontweight='bold', fontsize=15, color=ax.lines[-1].get_color())\n",
    "g.fig.subplots_adjust(hspace=-0.4)\n",
    "\n",
    "# Remove ugly titles\n",
    "g.set_titles(\"\")\n",
    "g.set(ylabel=\"\")\n",
    "g.set(yticks=[])\n",
    "g.despine(bottom=True, left=True)\n",
    "\n",
    "# Pretty titles\n",
    "plt.setp(ax.get_xticklabels(), fontsize=10, fontweight='bold')\n",
    "plt.xlabel('Minimum temperature(°C)', fontweight='bold', fontsize=12)\n",
    "g.fig.suptitle('Migration departure minimum temperature by month', ha='center', fontsize=18, fontweight='bold')\n",
    "\n",
    "plt.show()"
   ]
  },
  {
   "cell_type": "markdown",
   "id": "2366b2f4-b661-4be2-b1cd-317bd803b15f",
   "metadata": {},
   "source": [
    "*done with data preprocessing don't run above anymore!*"
   ]
  },
  {
   "cell_type": "markdown",
   "id": "8eb5e3e5-c4a8-4639-b3f5-d917ab9bd30a",
   "metadata": {},
   "source": [
    " "
   ]
  },
  {
   "cell_type": "markdown",
   "id": "87420d3b-ab6f-49aa-888d-6ca1b9d3f6e6",
   "metadata": {},
   "source": [
    "### Applying KMeans "
   ]
  },
  {
   "cell_type": "markdown",
   "id": "0d2823ff-a000-4d17-ad7f-52fec430715b",
   "metadata": {},
   "source": [
    "Kmeans code from Homework 3"
   ]
  },
  {
   "cell_type": "code",
   "execution_count": 12,
   "id": "7f14c2bf-9e42-4fb6-99ef-20e290404462",
   "metadata": {},
   "outputs": [],
   "source": [
    "# Write a function euclidean distance \n",
    "def distance(x1, x2):\n",
    "    return np.sqrt(np.sum((np.array(x1)-np.array(x2))**2))"
   ]
  },
  {
   "cell_type": "code",
   "execution_count": 13,
   "id": "2110775b-7d57-4261-97ff-2501fd86e373",
   "metadata": {},
   "outputs": [],
   "source": [
    "def kmeans(df, k, tol=0.05): \n",
    "    \"\"\"\n",
    "    Usage: input \n",
    "        df=data frame, \n",
    "        k=# of clusters\n",
    "        tol=tolerance for L_2 convergance check on centroids\n",
    "    \"\"\"    \n",
    "    # Important variables\n",
    "    columns = [\"month\", \"average_min\"]\n",
    "    prev_error = float('inf')\n",
    "    \n",
    "    # Initialize clusters and centroids\n",
    "    centroid_indexes = random.sample(range(len(df)), k)\n",
    "    centroids = [tuple(df.iloc[i][columns]) for i in centroid_indexes]\n",
    "    clusters = [[] for _ in range(k)]\n",
    "    \n",
    "    while True:\n",
    "        # Iterate through every datapoint\n",
    "        for index, row in df.iterrows():\n",
    "            row_tuple = tuple(row.loc[columns])\n",
    "            # Calculate the distance between the row and the centroid\n",
    "            distances = [distance(row_tuple, centroid) for centroid in centroids]\n",
    "            # Find the nearest centroid and add it\n",
    "            nearest_centroid_index = np.argmin(distances)\n",
    "            clusters[nearest_centroid_index].append(row.loc[columns])\n",
    "\n",
    "        # Updat the centroids to be the average of the cluster\n",
    "        new_centroids = [(np.mean([point[0] for point in cluster]),  \n",
    "                          np.mean([point[1] for point in cluster]))\n",
    "                         for cluster in clusters]\n",
    "\n",
    "        # Calculate the error to see if the clustering is complete\n",
    "        meanerror = np.mean([distance(row, new_centroids[i]) for i, cluster in enumerate(clusters) for row in cluster])\n",
    "        \n",
    "        if abs(prev_error - meanerror) <= tol:\n",
    "            break\n",
    "\n",
    "        # Update variables\n",
    "        prev_error = meanerror\n",
    "        centroids = new_centroids\n",
    "        clusters = [[] for _ in range(k)]\n",
    "        \n",
    "    \n",
    "    return centroids, clusters, meanerror"
   ]
  },
  {
   "cell_type": "code",
   "execution_count": 14,
   "id": "5705b48c-69e5-4673-86c8-7c5519ffef8c",
   "metadata": {},
   "outputs": [
    {
     "data": {
      "text/html": [
       "<div>\n",
       "<style scoped>\n",
       "    .dataframe tbody tr th:only-of-type {\n",
       "        vertical-align: middle;\n",
       "    }\n",
       "\n",
       "    .dataframe tbody tr th {\n",
       "        vertical-align: top;\n",
       "    }\n",
       "\n",
       "    .dataframe thead th {\n",
       "        text-align: right;\n",
       "    }\n",
       "</style>\n",
       "<table border=\"1\" class=\"dataframe\">\n",
       "  <thead>\n",
       "    <tr style=\"text-align: right;\">\n",
       "      <th></th>\n",
       "      <th>month</th>\n",
       "      <th>average_min</th>\n",
       "    </tr>\n",
       "  </thead>\n",
       "  <tbody>\n",
       "    <tr>\n",
       "      <th>0</th>\n",
       "      <td>8</td>\n",
       "      <td>11.981818</td>\n",
       "    </tr>\n",
       "    <tr>\n",
       "      <th>1</th>\n",
       "      <td>7</td>\n",
       "      <td>7.863636</td>\n",
       "    </tr>\n",
       "    <tr>\n",
       "      <th>3</th>\n",
       "      <td>7</td>\n",
       "      <td>7.181818</td>\n",
       "    </tr>\n",
       "  </tbody>\n",
       "</table>\n",
       "</div>"
      ],
      "text/plain": [
       "   month  average_min\n",
       "0      8    11.981818\n",
       "1      7     7.863636\n",
       "3      7     7.181818"
      ]
     },
     "execution_count": 14,
     "metadata": {},
     "output_type": "execute_result"
    }
   ],
   "source": [
    "# Make gmm dataset and remove outliers\n",
    "kmeans_df = temp_df[['month', 'average_min']]\n",
    "kmeans_df = kmeans_df[kmeans_df['month'].isin([4,5]) & (kmeans_df['average_min'] < 7) | kmeans_df['month'].isin([7,8])]\n",
    "kmeans_df.head(3)"
   ]
  },
  {
   "cell_type": "code",
   "execution_count": 17,
   "id": "3d52d913-5684-4b2f-aceb-70d00b075d37",
   "metadata": {},
   "outputs": [
    {
     "name": "stderr",
     "output_type": "stream",
     "text": [
      "/var/folders/pq/xr8rr6kj661dlbhfxj5vw0z00000gn/T/ipykernel_75207/601754612.py:25: FutureWarning: Series.__getitem__ treating keys as positions is deprecated. In a future version, integer keys will always be treated as labels (consistent with DataFrame behavior). To access a value by position, use `ser.iloc[pos]`\n",
      "  new_centroids = [(np.mean([point[0] for point in cluster]),\n",
      "/var/folders/pq/xr8rr6kj661dlbhfxj5vw0z00000gn/T/ipykernel_75207/601754612.py:26: FutureWarning: Series.__getitem__ treating keys as positions is deprecated. In a future version, integer keys will always be treated as labels (consistent with DataFrame behavior). To access a value by position, use `ser.iloc[pos]`\n",
      "  np.mean([point[1] for point in cluster]))\n",
      "/var/folders/pq/xr8rr6kj661dlbhfxj5vw0z00000gn/T/ipykernel_75207/601754612.py:25: FutureWarning: Series.__getitem__ treating keys as positions is deprecated. In a future version, integer keys will always be treated as labels (consistent with DataFrame behavior). To access a value by position, use `ser.iloc[pos]`\n",
      "  new_centroids = [(np.mean([point[0] for point in cluster]),\n",
      "/var/folders/pq/xr8rr6kj661dlbhfxj5vw0z00000gn/T/ipykernel_75207/601754612.py:26: FutureWarning: Series.__getitem__ treating keys as positions is deprecated. In a future version, integer keys will always be treated as labels (consistent with DataFrame behavior). To access a value by position, use `ser.iloc[pos]`\n",
      "  np.mean([point[1] for point in cluster]))\n"
     ]
    }
   ],
   "source": [
    "# Call kmeans\n",
    "centroids, clusters, mean_error = kmeans(kmeans_df, k=2)"
   ]
  },
  {
   "cell_type": "code",
   "execution_count": 18,
   "id": "8f284dae-8b91-4a56-b964-d6ac46d4e105",
   "metadata": {},
   "outputs": [
    {
     "name": "stderr",
     "output_type": "stream",
     "text": [
      "/Users/bella/anaconda3/envs/adv_ds_ENV/lib/python3.12/site-packages/seaborn/_oldcore.py:1119: FutureWarning: use_inf_as_na option is deprecated and will be removed in a future version. Convert inf values to NaN before operating instead.\n",
      "  with pd.option_context('mode.use_inf_as_na', True):\n",
      "/Users/bella/anaconda3/envs/adv_ds_ENV/lib/python3.12/site-packages/seaborn/_oldcore.py:1119: FutureWarning: use_inf_as_na option is deprecated and will be removed in a future version. Convert inf values to NaN before operating instead.\n",
      "  with pd.option_context('mode.use_inf_as_na', True):\n",
      "/Users/bella/anaconda3/envs/adv_ds_ENV/lib/python3.12/site-packages/seaborn/_oldcore.py:1119: FutureWarning: use_inf_as_na option is deprecated and will be removed in a future version. Convert inf values to NaN before operating instead.\n",
      "  with pd.option_context('mode.use_inf_as_na', True):\n",
      "/Users/bella/anaconda3/envs/adv_ds_ENV/lib/python3.12/site-packages/seaborn/_oldcore.py:1119: FutureWarning: use_inf_as_na option is deprecated and will be removed in a future version. Convert inf values to NaN before operating instead.\n",
      "  with pd.option_context('mode.use_inf_as_na', True):\n"
     ]
    },
    {
     "data": {
      "image/png": "[encoded data removed]",
      "text/plain": [
       "<Figure size 1000x600 with 1 Axes>"
      ]
     },
     "metadata": {},
     "output_type": "display_data"
    }
   ],
   "source": [
    "# Reference: https://python-graph-gallery.com/134-how-to-avoid-overplotting-with-python/\n",
    "# Plot skeleton\n",
    "sns.set_theme()\n",
    "fig = plt.figure(figsize=(10,6), facecolor=\"white\")\n",
    "\n",
    "# Colors\n",
    "cluster1_palette = sns.color_palette(\"Blues\", as_cmap=True)\n",
    "cluster2_palette = sns.color_palette(\"Reds\", as_cmap=True)\n",
    "\n",
    "# Plot KDE for each cluser\n",
    "sns.kdeplot(data=pd.DataFrame(clusters[0]), x=\"month\", y=\"average_min\", cmap= cluster1_palette, fill=True, levels=8)\n",
    "sns.kdeplot(data=pd.DataFrame(clusters[1]), x=\"month\", y=\"average_min\", cmap= cluster2_palette, fill=True, levels=8)\n",
    "\n",
    "# Legend\n",
    "legend_elements = [\n",
    "    Patch(facecolor=cluster1_palette(0.7), edgecolor= cluster1_palette(0.7), label='Cluster 1'),\n",
    "    Patch(facecolor=cluster2_palette(0.7), edgecolor= cluster2_palette(0.7), label='Cluster 2'),\n",
    "]\n",
    "legend = plt.legend(handles=legend_elements, loc='upper left', title='Clusters')\n",
    "legend.get_frame().set_facecolor('white')\n",
    "\n",
    "# Axis titles\n",
    "plt.title(\"Marbled Godwit migration deperature clusters\", fontsize=14, fontweight='bold')\n",
    "plt.xlabel(\"Month by number\", fontweight = 'bold')\n",
    "plt.ylabel(\"Average minimum temperature\", fontweight = 'bold')\n",
    "plt.show()"
   ]
  }
 ],
 "metadata": {
  "kernelspec": {
   "display_name": "Python 3 (ipykernel)",
   "language": "python",
   "name": "python3"
  },
  "language_info": {
   "codemirror_mode": {
    "name": "ipython",
    "version": 3
   },
   "file_extension": ".py",
   "mimetype": "text/x-python",
   "name": "python",
   "nbconvert_exporter": "python",
   "pygments_lexer": "ipython3",
   "version": "3.12.2"
  }
 },
 "nbformat": 4,
 "nbformat_minor": 5
}
