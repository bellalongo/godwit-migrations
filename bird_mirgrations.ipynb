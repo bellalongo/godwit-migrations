{
 "cells": [
  {
   "cell_type": "markdown",
   "id": "30a6f429-04fc-4db0-85dc-a6c854671c2b",
   "metadata": {},
   "source": [
    "### Goal: \n",
    "Use a GMM to put the birds into two groups, temperature when leaving where they migrate to, and temperature when leaving to go back home"
   ]
  },
  {
   "cell_type": "code",
   "execution_count": 35,
   "id": "d1a5d31f-042d-46f3-9c01-e9975f667775",
   "metadata": {},
   "outputs": [],
   "source": [
    "import pandas as pd\n",
    "import time\n",
    "import pandas as pd\n",
    "import requests\n",
    "import numpy as np\n",
    "from scipy.stats import norm\n",
    "import matplotlib.pyplot as plt\n",
    "import seaborn as sns"
   ]
  },
  {
   "cell_type": "markdown",
   "id": "da65cabf-38cb-49b9-8054-b82cc7934a12",
   "metadata": {},
   "source": [
    " "
   ]
  },
  {
   "cell_type": "markdown",
   "id": "7b1ad5ef-55d9-4ca1-925c-37afc3484f36",
   "metadata": {},
   "source": [
    "### Data Preprocessing "
   ]
  },
  {
   "cell_type": "code",
   "execution_count": 2,
   "id": "cf3deb9a-aa5d-4ceb-982e-19269a4b239f",
   "metadata": {},
   "outputs": [
    {
     "data": {
      "text/html": [
       "<div>\n",
       "<style scoped>\n",
       "    .dataframe tbody tr th:only-of-type {\n",
       "        vertical-align: middle;\n",
       "    }\n",
       "\n",
       "    .dataframe tbody tr th {\n",
       "        vertical-align: top;\n",
       "    }\n",
       "\n",
       "    .dataframe thead th {\n",
       "        text-align: right;\n",
       "    }\n",
       "</style>\n",
       "<table border=\"1\" class=\"dataframe\">\n",
       "  <thead>\n",
       "    <tr style=\"text-align: right;\">\n",
       "      <th></th>\n",
       "      <th>Sort_Order</th>\n",
       "      <th>Animal_ID</th>\n",
       "      <th>Year</th>\n",
       "      <th>Season</th>\n",
       "      <th>Departure_UTC</th>\n",
       "      <th>Arrival_UTC</th>\n",
       "      <th>Departure_Local</th>\n",
       "      <th>Arrival_Local</th>\n",
       "      <th>Flight_Duration_Hours</th>\n",
       "      <th>Stage</th>\n",
       "      <th>Overall_Duration_Days</th>\n",
       "      <th>Final_Destination</th>\n",
       "      <th>Departure_Site</th>\n",
       "      <th>Arrival_Site</th>\n",
       "      <th>Stay_Duration_Hours</th>\n",
       "    </tr>\n",
       "  </thead>\n",
       "  <tbody>\n",
       "    <tr>\n",
       "      <th>0</th>\n",
       "      <td>1</td>\n",
       "      <td>MAGO_1A</td>\n",
       "      <td>2008</td>\n",
       "      <td>fall</td>\n",
       "      <td>8/7/2008 3:31</td>\n",
       "      <td>8/9/2008 14:53</td>\n",
       "      <td>8/6/2008 18:31</td>\n",
       "      <td>8/9/2008 6:53</td>\n",
       "      <td>59.36</td>\n",
       "      <td>S1</td>\n",
       "      <td>2.47</td>\n",
       "      <td>Y</td>\n",
       "      <td>ugashik</td>\n",
       "      <td>willapa</td>\n",
       "      <td>NaN</td>\n",
       "    </tr>\n",
       "    <tr>\n",
       "      <th>1</th>\n",
       "      <td>2</td>\n",
       "      <td>MAGO_2A</td>\n",
       "      <td>2008</td>\n",
       "      <td>fall</td>\n",
       "      <td>7/20/2008 2:17</td>\n",
       "      <td>7/22/2008 4:37</td>\n",
       "      <td>7/19/2008 17:17</td>\n",
       "      <td>7/21/2008 20:37</td>\n",
       "      <td>50.33</td>\n",
       "      <td>S1</td>\n",
       "      <td>2.10</td>\n",
       "      <td>Y</td>\n",
       "      <td>ugashik</td>\n",
       "      <td>bodega</td>\n",
       "      <td>6854.67</td>\n",
       "    </tr>\n",
       "    <tr>\n",
       "      <th>2</th>\n",
       "      <td>3</td>\n",
       "      <td>MAGO_2A</td>\n",
       "      <td>2009</td>\n",
       "      <td>spring</td>\n",
       "      <td>5/3/2009 19:17</td>\n",
       "      <td>5/6/2009 0:19</td>\n",
       "      <td>5/3/2009 11:17</td>\n",
       "      <td>5/5/2009 15:19</td>\n",
       "      <td>53.02</td>\n",
       "      <td>N1</td>\n",
       "      <td>NaN</td>\n",
       "      <td>N</td>\n",
       "      <td>bodega</td>\n",
       "      <td>controller</td>\n",
       "      <td>58.99</td>\n",
       "    </tr>\n",
       "  </tbody>\n",
       "</table>\n",
       "</div>"
      ],
      "text/plain": [
       "   Sort_Order Animal_ID  Year  Season   Departure_UTC     Arrival_UTC  \\\n",
       "0           1   MAGO_1A  2008    fall   8/7/2008 3:31  8/9/2008 14:53   \n",
       "1           2   MAGO_2A  2008    fall  7/20/2008 2:17  7/22/2008 4:37   \n",
       "2           3   MAGO_2A  2009  spring  5/3/2009 19:17   5/6/2009 0:19   \n",
       "\n",
       "   Departure_Local    Arrival_Local  Flight_Duration_Hours Stage  \\\n",
       "0   8/6/2008 18:31    8/9/2008 6:53                  59.36    S1   \n",
       "1  7/19/2008 17:17  7/21/2008 20:37                  50.33    S1   \n",
       "2   5/3/2009 11:17   5/5/2009 15:19                  53.02    N1   \n",
       "\n",
       "   Overall_Duration_Days Final_Destination Departure_Site Arrival_Site  \\\n",
       "0                   2.47                 Y        ugashik      willapa   \n",
       "1                   2.10                 Y        ugashik       bodega   \n",
       "2                    NaN                 N         bodega   controller   \n",
       "\n",
       "   Stay_Duration_Hours  \n",
       "0                  NaN  \n",
       "1              6854.67  \n",
       "2                58.99  "
      ]
     },
     "execution_count": 2,
     "metadata": {},
     "output_type": "execute_result"
    }
   ],
   "source": [
    "migration_df = pd.read_csv('migrationTimingSiteUse_2008_2015/marbledGodwit_migration_ugashik_ruthrauff.csv')\n",
    "migration_df.head(3)"
   ]
  },
  {
   "cell_type": "code",
   "execution_count": 3,
   "id": "98cd8b7c-98d3-483c-87e8-7a8aeae669ca",
   "metadata": {},
   "outputs": [
    {
     "data": {
      "text/html": [
       "<div>\n",
       "<style scoped>\n",
       "    .dataframe tbody tr th:only-of-type {\n",
       "        vertical-align: middle;\n",
       "    }\n",
       "\n",
       "    .dataframe tbody tr th {\n",
       "        vertical-align: top;\n",
       "    }\n",
       "\n",
       "    .dataframe thead th {\n",
       "        text-align: right;\n",
       "    }\n",
       "</style>\n",
       "<table border=\"1\" class=\"dataframe\">\n",
       "  <thead>\n",
       "    <tr style=\"text-align: right;\">\n",
       "      <th></th>\n",
       "      <th>index</th>\n",
       "      <th>Departure_UTC</th>\n",
       "      <th>Departure_Site</th>\n",
       "    </tr>\n",
       "  </thead>\n",
       "  <tbody>\n",
       "    <tr>\n",
       "      <th>0</th>\n",
       "      <td>0</td>\n",
       "      <td>8/7/2008 3:31</td>\n",
       "      <td>ugashik</td>\n",
       "    </tr>\n",
       "    <tr>\n",
       "      <th>1</th>\n",
       "      <td>1</td>\n",
       "      <td>7/20/2008 2:17</td>\n",
       "      <td>ugashik</td>\n",
       "    </tr>\n",
       "    <tr>\n",
       "      <th>2</th>\n",
       "      <td>2</td>\n",
       "      <td>5/3/2009 19:17</td>\n",
       "      <td>bodega</td>\n",
       "    </tr>\n",
       "  </tbody>\n",
       "</table>\n",
       "</div>"
      ],
      "text/plain": [
       "   index   Departure_UTC Departure_Site\n",
       "0      0   8/7/2008 3:31        ugashik\n",
       "1      1  7/20/2008 2:17        ugashik\n",
       "2      2  5/3/2009 19:17         bodega"
      ]
     },
     "execution_count": 3,
     "metadata": {},
     "output_type": "execute_result"
    }
   ],
   "source": [
    "# Filter the dataframe to only store data if the flight stage is S1 or N1 (the bird is leaving)\n",
    "filtered_migration_df = migration_df[(migration_df['Stage'] == 'S1') | (migration_df['Stage'] == 'N1')].loc[:, ['Departure_UTC', 'Departure_Site']].reset_index()\n",
    "filtered_migration_df.head(3)"
   ]
  },
  {
   "cell_type": "code",
   "execution_count": 4,
   "id": "7b8c2373-7f29-4b64-86a4-8b871f5e387b",
   "metadata": {},
   "outputs": [],
   "source": [
    "# Get latitude and longitude of deperature sites\n",
    "deperature_lat_lon = {}\n",
    "deperature_lat_lon['ugashik'] = (57.5577, 157.6269)\n",
    "deperature_lat_lon['bodega'] = (38.3332, 23.0481)\n",
    "deperature_lat_lon['humboldt'] = (40.7195, 124.2426)\n",
    "deperature_lat_lon['moss'] = (36.8058, 121.7902)\n",
    "deperature_lat_lon['bolinas_ocean'] = (37.8965, 122.6786)"
   ]
  },
  {
   "cell_type": "code",
   "execution_count": 5,
   "id": "a98854d5-3c1f-4109-ae25-e28af00c5bdc",
   "metadata": {},
   "outputs": [
    {
     "data": {
      "text/html": [
       "<div>\n",
       "<style scoped>\n",
       "    .dataframe tbody tr th:only-of-type {\n",
       "        vertical-align: middle;\n",
       "    }\n",
       "\n",
       "    .dataframe tbody tr th {\n",
       "        vertical-align: top;\n",
       "    }\n",
       "\n",
       "    .dataframe thead th {\n",
       "        text-align: right;\n",
       "    }\n",
       "</style>\n",
       "<table border=\"1\" class=\"dataframe\">\n",
       "  <thead>\n",
       "    <tr style=\"text-align: right;\">\n",
       "      <th></th>\n",
       "      <th>index</th>\n",
       "      <th>Departure_UTC</th>\n",
       "      <th>Departure_Site</th>\n",
       "      <th>Departure_Latitude</th>\n",
       "      <th>Departure_Longitude</th>\n",
       "    </tr>\n",
       "  </thead>\n",
       "  <tbody>\n",
       "    <tr>\n",
       "      <th>0</th>\n",
       "      <td>0</td>\n",
       "      <td>8/7/2008 3:31</td>\n",
       "      <td>ugashik</td>\n",
       "      <td>57.5577</td>\n",
       "      <td>157.6269</td>\n",
       "    </tr>\n",
       "    <tr>\n",
       "      <th>1</th>\n",
       "      <td>1</td>\n",
       "      <td>7/20/2008 2:17</td>\n",
       "      <td>ugashik</td>\n",
       "      <td>57.5577</td>\n",
       "      <td>157.6269</td>\n",
       "    </tr>\n",
       "    <tr>\n",
       "      <th>2</th>\n",
       "      <td>2</td>\n",
       "      <td>5/3/2009 19:17</td>\n",
       "      <td>bodega</td>\n",
       "      <td>38.3332</td>\n",
       "      <td>23.0481</td>\n",
       "    </tr>\n",
       "  </tbody>\n",
       "</table>\n",
       "</div>"
      ],
      "text/plain": [
       "   index   Departure_UTC Departure_Site  Departure_Latitude  \\\n",
       "0      0   8/7/2008 3:31        ugashik             57.5577   \n",
       "1      1  7/20/2008 2:17        ugashik             57.5577   \n",
       "2      2  5/3/2009 19:17         bodega             38.3332   \n",
       "\n",
       "   Departure_Longitude  \n",
       "0             157.6269  \n",
       "1             157.6269  \n",
       "2              23.0481  "
      ]
     },
     "execution_count": 5,
     "metadata": {},
     "output_type": "execute_result"
    }
   ],
   "source": [
    "filtered_migration_df['Departure_Latitude'] = filtered_migration_df['Departure_Site'].map(lambda x: deperature_lat_lon[x][0])\n",
    "filtered_migration_df['Departure_Longitude'] = filtered_migration_df['Departure_Site'].map(lambda x: deperature_lat_lon[x][1])\n",
    "filtered_migration_df.head(3)"
   ]
  },
  {
   "cell_type": "code",
   "execution_count": 6,
   "id": "14a5d718-53fc-4ff9-b065-561cb1d8ec3f",
   "metadata": {},
   "outputs": [
    {
     "data": {
      "text/html": [
       "<div>\n",
       "<style scoped>\n",
       "    .dataframe tbody tr th:only-of-type {\n",
       "        vertical-align: middle;\n",
       "    }\n",
       "\n",
       "    .dataframe tbody tr th {\n",
       "        vertical-align: top;\n",
       "    }\n",
       "\n",
       "    .dataframe thead th {\n",
       "        text-align: right;\n",
       "    }\n",
       "</style>\n",
       "<table border=\"1\" class=\"dataframe\">\n",
       "  <thead>\n",
       "    <tr style=\"text-align: right;\">\n",
       "      <th></th>\n",
       "      <th>index</th>\n",
       "      <th>Departure_UTC</th>\n",
       "      <th>Departure_Site</th>\n",
       "      <th>Departure_Latitude</th>\n",
       "      <th>Departure_Longitude</th>\n",
       "    </tr>\n",
       "  </thead>\n",
       "  <tbody>\n",
       "    <tr>\n",
       "      <th>0</th>\n",
       "      <td>0</td>\n",
       "      <td>2008-08-07 03:31:00</td>\n",
       "      <td>ugashik</td>\n",
       "      <td>57.5577</td>\n",
       "      <td>157.6269</td>\n",
       "    </tr>\n",
       "    <tr>\n",
       "      <th>1</th>\n",
       "      <td>1</td>\n",
       "      <td>2008-07-20 02:17:00</td>\n",
       "      <td>ugashik</td>\n",
       "      <td>57.5577</td>\n",
       "      <td>157.6269</td>\n",
       "    </tr>\n",
       "    <tr>\n",
       "      <th>2</th>\n",
       "      <td>2</td>\n",
       "      <td>2009-05-03 19:17:00</td>\n",
       "      <td>bodega</td>\n",
       "      <td>38.3332</td>\n",
       "      <td>23.0481</td>\n",
       "    </tr>\n",
       "  </tbody>\n",
       "</table>\n",
       "</div>"
      ],
      "text/plain": [
       "   index       Departure_UTC Departure_Site  Departure_Latitude  \\\n",
       "0      0 2008-08-07 03:31:00        ugashik             57.5577   \n",
       "1      1 2008-07-20 02:17:00        ugashik             57.5577   \n",
       "2      2 2009-05-03 19:17:00         bodega             38.3332   \n",
       "\n",
       "   Departure_Longitude  \n",
       "0             157.6269  \n",
       "1             157.6269  \n",
       "2              23.0481  "
      ]
     },
     "execution_count": 6,
     "metadata": {},
     "output_type": "execute_result"
    }
   ],
   "source": [
    "filtered_migration_df['Departure_UTC'] = pd.to_datetime(filtered_migration_df['Departure_UTC'])\n",
    "filtered_migration_df.head(3)"
   ]
  },
  {
   "cell_type": "markdown",
   "id": "f1e49c8d-590d-469a-aba6-8334868e442a",
   "metadata": {},
   "source": [
    "API code from: https://rapidapi.com/meteostat/api/meteostat/"
   ]
  },
  {
   "cell_type": "markdown",
   "id": "6bb047be-db06-4b7f-a380-06941e536a72",
   "metadata": {},
   "source": [
    "**dont run me anymore!!!**"
   ]
  },
  {
   "cell_type": "code",
   "execution_count": 22,
   "id": "0592c806-aa8c-4946-b397-110afdaa49b0",
   "metadata": {},
   "outputs": [],
   "source": [
    "# Function to get average temperature for a given location and date range\n",
    "def get_temperature_data(lat, lon, start_date, end_date):\n",
    "    url = \"https://meteostat.p.rapidapi.com/point/daily\"\n",
    "\n",
    "    querystring = {\n",
    "        \"lat\": lat,\n",
    "        \"lon\": lon,\n",
    "        \"start\": start_date,\n",
    "        \"end\": end_date\n",
    "    }\n",
    "\n",
    "    headers = {\n",
    "        'X-RapidAPI-Key': \"dce607584dmsh5c8a13db16ffb10p1ada3djsnd4ed56a6987e\",\n",
    "        'X-RapidAPI-Host': \"meteostat.p.rapidapi.com\"\n",
    "    }\n",
    "\n",
    "    try: \n",
    "        response = requests.get(url, headers=headers, params=querystring)\n",
    "        data = response.json()['data']\n",
    "        return data\n",
    "        # temperatures = [day['tmin'] for day in data if day['tmin'] is not None]\n",
    "        \n",
    "        # # Check one of the values was none\n",
    "        # if temperatures: \n",
    "        #     min_temperature = min(temperatures)\n",
    "        # else:\n",
    "        #     return None\n",
    "        \n",
    "        # return average_temperature\n",
    "\n",
    "    except Exception as e:\n",
    "        print(f\"Error: {e}\")\n",
    "        return None"
   ]
  },
  {
   "cell_type": "code",
   "execution_count": 23,
   "id": "3979bad9-06a6-4ba7-9595-c9fb981002f0",
   "metadata": {},
   "outputs": [],
   "source": [
    "# Get the temperature data\n",
    "temp_data = []\n",
    "\n",
    "for i, row in filtered_migration_df.iterrows():\n",
    "    lat = row['Departure_Latitude']\n",
    "    lon = row['Departure_Longitude']\n",
    "    start_time = (row['Departure_UTC'] - pd.Timedelta(days=10)).strftime('%Y-%m-%d')\n",
    "    end_time = (row['Departure_UTC']).strftime('%Y-%m-%d')\n",
    "    \n",
    "    curr_temp_data = get_temperature_data(lat, lon, start_time, end_time)\n",
    "    temp_data.append(curr_temp_data)"
   ]
  },
  {
   "cell_type": "code",
   "execution_count": 114,
   "id": "5c9892da-9e03-451c-b2e9-8017cf34b9e3",
   "metadata": {},
   "outputs": [],
   "source": [
    "# Convert temp_data to a pandas data frame\n",
    "all_data = []\n",
    "for group in temp_data:\n",
    "    feature_data = []\n",
    "    for day in group:\n",
    "        if day['tmin']:\n",
    "            feature_data.append(day['tmin'])\n",
    "    feature = sum(feature_data)/len(feature_data)\n",
    "    all_data.append((day['date'], feature))\n",
    "\n",
    "df = pd.DataFrame(all_data, columns = ['date', 'average_min'])"
   ]
  },
  {
   "cell_type": "code",
   "execution_count": 128,
   "id": "72e4a15c-499d-45c7-9663-809ed48dd36d",
   "metadata": {},
   "outputs": [
    {
     "name": "stderr",
     "output_type": "stream",
     "text": [
      "/Users/bella/anaconda3/envs/adv_ds_ENV/lib/python3.12/site-packages/seaborn/_oldcore.py:1119: FutureWarning: use_inf_as_na option is deprecated and will be removed in a future version. Convert inf values to NaN before operating instead.\n",
      "  with pd.option_context('mode.use_inf_as_na', True):\n",
      "/Users/bella/anaconda3/envs/adv_ds_ENV/lib/python3.12/site-packages/seaborn/_oldcore.py:1119: FutureWarning: use_inf_as_na option is deprecated and will be removed in a future version. Convert inf values to NaN before operating instead.\n",
      "  with pd.option_context('mode.use_inf_as_na', True):\n",
      "/Users/bella/anaconda3/envs/adv_ds_ENV/lib/python3.12/site-packages/seaborn/_oldcore.py:1119: FutureWarning: use_inf_as_na option is deprecated and will be removed in a future version. Convert inf values to NaN before operating instead.\n",
      "  with pd.option_context('mode.use_inf_as_na', True):\n",
      "/Users/bella/anaconda3/envs/adv_ds_ENV/lib/python3.12/site-packages/seaborn/axisgrid.py:848: UserWarning: Dataset has 0 variance; skipping density estimate. Pass `warn_singular=False` to disable this warning.\n",
      "  func(*plot_args, **plot_kwargs)\n",
      "/Users/bella/anaconda3/envs/adv_ds_ENV/lib/python3.12/site-packages/seaborn/_oldcore.py:1119: FutureWarning: use_inf_as_na option is deprecated and will be removed in a future version. Convert inf values to NaN before operating instead.\n",
      "  with pd.option_context('mode.use_inf_as_na', True):\n",
      "/Users/bella/anaconda3/envs/adv_ds_ENV/lib/python3.12/site-packages/seaborn/_oldcore.py:1119: FutureWarning: use_inf_as_na option is deprecated and will be removed in a future version. Convert inf values to NaN before operating instead.\n",
      "  with pd.option_context('mode.use_inf_as_na', True):\n",
      "/Users/bella/anaconda3/envs/adv_ds_ENV/lib/python3.12/site-packages/seaborn/_oldcore.py:1119: FutureWarning: use_inf_as_na option is deprecated and will be removed in a future version. Convert inf values to NaN before operating instead.\n",
      "  with pd.option_context('mode.use_inf_as_na', True):\n",
      "/Users/bella/anaconda3/envs/adv_ds_ENV/lib/python3.12/site-packages/seaborn/_oldcore.py:1119: FutureWarning: use_inf_as_na option is deprecated and will be removed in a future version. Convert inf values to NaN before operating instead.\n",
      "  with pd.option_context('mode.use_inf_as_na', True):\n",
      "/Users/bella/anaconda3/envs/adv_ds_ENV/lib/python3.12/site-packages/seaborn/_oldcore.py:1119: FutureWarning: use_inf_as_na option is deprecated and will be removed in a future version. Convert inf values to NaN before operating instead.\n",
      "  with pd.option_context('mode.use_inf_as_na', True):\n",
      "/Users/bella/anaconda3/envs/adv_ds_ENV/lib/python3.12/site-packages/seaborn/axisgrid.py:848: UserWarning: Dataset has 0 variance; skipping density estimate. Pass `warn_singular=False` to disable this warning.\n",
      "  func(*plot_args, **plot_kwargs)\n",
      "/Users/bella/anaconda3/envs/adv_ds_ENV/lib/python3.12/site-packages/seaborn/_oldcore.py:1119: FutureWarning: use_inf_as_na option is deprecated and will be removed in a future version. Convert inf values to NaN before operating instead.\n",
      "  with pd.option_context('mode.use_inf_as_na', True):\n",
      "/Users/bella/anaconda3/envs/adv_ds_ENV/lib/python3.12/site-packages/seaborn/_oldcore.py:1119: FutureWarning: use_inf_as_na option is deprecated and will be removed in a future version. Convert inf values to NaN before operating instead.\n",
      "  with pd.option_context('mode.use_inf_as_na', True):\n"
     ]
    },
    {
     "data": {
      "text/plain": [
       "<seaborn.axisgrid.FacetGrid at 0x155a52810>"
      ]
     },
     "execution_count": 128,
     "metadata": {},
     "output_type": "execute_result"
    },
    {
     "data": {
      "image/png": "[encoded data removed]",
      "text/plain": [
       "<Figure size 1000x500 with 5 Axes>"
      ]
     },
     "metadata": {},
     "output_type": "display_data"
    }
   ],
   "source": [
    "# Get the data for that month\n",
    "df['month'] = pd.to_datetime(df['date']).dt.month\n",
    "\n",
    "# Plot\n",
    "palette = sns.color_palette(palette='coolwarm', n_colors=5)\n",
    "sns_plot = sns.FacetGrid(df, row='month', hue='month', aspect=10, height=1, palette=pal)\n",
    "sns_plot.map(sns.kdeplot, 'average_min', bw_adjust=1, clip_on=False, fill=True, alpha=1, linewidth=1.5)\n",
    "sns_plot.map(sns.kdeplot, 'average_min', bw_adjust=1, clip_on=False, color=\"w\", lw=2)\n",
    "sns_plot.map(plt.axhline, y=0, lw=2, clip_on=False)"
   ]
  },
  {
   "cell_type": "code",
   "execution_count": 105,
   "id": "094f2d84-561f-4bd8-834e-b1b79816b59b",
   "metadata": {},
   "outputs": [
    {
     "data": {
      "image/png": "[encoded data removed]",
      "text/plain": [
       "<Figure size 640x480 with 1 Axes>"
      ]
     },
     "metadata": {},
     "output_type": "display_data"
    }
   ],
   "source": [
    "# Extract the month from the date\n",
    "df['month'] = pd.to_datetime(df['date']).dt.month\n",
    "\n",
    "# Create the scatter plot\n",
    "sns.scatterplot(x='month', y='average_min', data=df)\n",
    "plt.axhline(y = 7)\n",
    "\n",
    "# Show the plot\n",
    "plt.show()"
   ]
  },
  {
   "cell_type": "code",
   "execution_count": 112,
   "id": "746b71fd-de4c-4f15-8e4e-8ce935325710",
   "metadata": {},
   "outputs": [
    {
     "name": "stderr",
     "output_type": "stream",
     "text": [
      "/Users/bella/anaconda3/envs/adv_ds_ENV/lib/python3.12/site-packages/seaborn/_oldcore.py:1119: FutureWarning: use_inf_as_na option is deprecated and will be removed in a future version. Convert inf values to NaN before operating instead.\n",
      "  with pd.option_context('mode.use_inf_as_na', True):\n"
     ]
    },
    {
     "data": {
      "text/plain": [
       "<Axes: xlabel='average_min', ylabel='Density'>"
      ]
     },
     "execution_count": 112,
     "metadata": {},
     "output_type": "execute_result"
    },
    {
     "data": {
      "image/png": "[encoded data removed]",
      "text/plain": [
       "<Figure size 640x480 with 1 Axes>"
      ]
     },
     "metadata": {},
     "output_type": "display_data"
    }
   ],
   "source": [
    "sns.kdeplot(x='average_min', data=df)"
   ]
  },
  {
   "cell_type": "code",
   "execution_count": 25,
   "id": "049bff1b-bcc6-429f-95e9-f79ea6add114",
   "metadata": {},
   "outputs": [
    {
     "name": "stdout",
     "output_type": "stream",
     "text": [
      "2008-08-07 4.445454545454545\n",
      "2008-07-20 7.627272727272728\n",
      "2009-05-03 9.454545454545455\n",
      "2009-07-16 7.027272727272727\n",
      "2008-08-05 4.072727272727272\n",
      "2008-08-15 4.918181818181818\n",
      "2009-04-29 9.554545454545455\n",
      "2009-07-11 5.4818181818181815\n",
      "2010-05-04 8.563636363636364\n",
      "2010-08-03 6.127272727272726\n",
      "2011-04-24 10.30909090909091\n",
      "2011-07-29 6.490909090909091\n",
      "2012-04-27 10.636363636363637\n",
      "2012-07-16 7.9\n"
     ]
    },
    {
     "ename": "TypeError",
     "evalue": "unsupported operand type(s) for -: 'float' and 'NoneType'",
     "output_type": "error",
     "traceback": [
      "\u001b[0;31m---------------------------------------------------------------------------\u001b[0m",
      "\u001b[0;31mTypeError\u001b[0m                                 Traceback (most recent call last)",
      "Cell \u001b[0;32mIn[25], line 8\u001b[0m\n\u001b[1;32m      6\u001b[0m \u001b[38;5;28;01mfor\u001b[39;00m day \u001b[38;5;129;01min\u001b[39;00m group:\n\u001b[1;32m      7\u001b[0m     \u001b[38;5;28;01mif\u001b[39;00m day:\n\u001b[0;32m----> 8\u001b[0m         group_min\u001b[38;5;241m.\u001b[39mappend(day[\u001b[38;5;124m'\u001b[39m\u001b[38;5;124mtmax\u001b[39m\u001b[38;5;124m'\u001b[39m] \u001b[38;5;241m-\u001b[39m day[\u001b[38;5;124m'\u001b[39m\u001b[38;5;124mtmin\u001b[39m\u001b[38;5;124m'\u001b[39m])\n\u001b[1;32m      9\u001b[0m group_avg \u001b[38;5;241m=\u001b[39m \u001b[38;5;28msum\u001b[39m(group_min)\u001b[38;5;241m/\u001b[39m \u001b[38;5;28mlen\u001b[39m(group_min)\n\u001b[1;32m     10\u001b[0m \u001b[38;5;28mprint\u001b[39m(day[\u001b[38;5;124m'\u001b[39m\u001b[38;5;124mdate\u001b[39m\u001b[38;5;124m'\u001b[39m], group_avg)\n",
      "\u001b[0;31mTypeError\u001b[0m: unsupported operand type(s) for -: 'float' and 'NoneType'"
     ]
    }
   ],
   "source": [
    "# Iterate through all of the temperature data and choose features\n",
    "min_temp_arr = []\n",
    "\n",
    "for group in temp_data:\n",
    "    group_min = []\n",
    "    for day in group:\n",
    "        group_min.append(day['tmax'] - day['tmin'])\n",
    "    group_avg = sum(group_min)/ len(group_min)\n",
    "    print(day['date'], group_avg)"
   ]
  },
  {
   "cell_type": "code",
   "execution_count": null,
   "id": "fb0b921a-e7c2-4761-a26c-4d24ff5d3173",
   "metadata": {},
   "outputs": [],
   "source": [
    "# Add the temperature data to the dataset\n",
    "filtered_migration_df['Deperature_Weekly_Avg(C)'] = avg_weekly\n",
    "filtered_migration_df.dropna(subset=['Deperature_Weekly_Avg(C)'], inplace=True)\n",
    "filtered_migration_df"
   ]
  },
  {
   "cell_type": "markdown",
   "id": "2366b2f4-b661-4be2-b1cd-317bd803b15f",
   "metadata": {},
   "source": [
    "*done with data preprocessing don't run above anymore!*"
   ]
  },
  {
   "cell_type": "markdown",
   "id": "8eb5e3e5-c4a8-4639-b3f5-d917ab9bd30a",
   "metadata": {},
   "source": [
    " "
   ]
  },
  {
   "cell_type": "markdown",
   "id": "87420d3b-ab6f-49aa-888d-6ca1b9d3f6e6",
   "metadata": {},
   "source": [
    "### Applying the GMM"
   ]
  },
  {
   "cell_type": "markdown",
   "id": "0d2823ff-a000-4d17-ad7f-52fec430715b",
   "metadata": {},
   "source": [
    "GMM code from Homework 4"
   ]
  },
  {
   "cell_type": "code",
   "execution_count": null,
   "id": "2110775b-7d57-4261-97ff-2501fd86e373",
   "metadata": {},
   "outputs": [],
   "source": [
    "def GMM(df, k):\n",
    "    dat = df.to_numpy()\n",
    "    # Define variables\n",
    "    covars = np.zeros(k)  # σ_m\n",
    "    means = np.zeros(k)  # μ_m\n",
    "    weights = np.zeros(k)  # w_m\n",
    "    data_given_cluster = np.zeros((len(dat), k))  # P(x_i | cluster = m)\n",
    "\n",
    "    # Initialize important variables\n",
    "    init_idx = np.random.choice(range(len(dat)), size=k, replace=False)\n",
    "\n",
    "    # Initialize σ_m, μ_m, and w_m for each k component (clusters)\n",
    "    for dim in range(k):\n",
    "        covars[dim] = np.var(dat)\n",
    "        means[dim] = dat[init_idx[dim]]\n",
    "        weights[dim] = 1 / k\n",
    "\n",
    "    for _ in range(50):\n",
    "        # Expectation step\n",
    "        for i in range(len(dat)):\n",
    "            for m in range(k):\n",
    "                # Compute Φ(x_i | μ_m, σ_m)*w_m\n",
    "                pdf = norm.pdf(dat[i], loc=means[m], scale=np.sqrt(covars[m]))\n",
    "                data_given_cluster[i, m] = pdf * weights[m]\n",
    "            # Normalize: pm_i = (pm_i)/(Σ_m pmi)\n",
    "            data_given_cluster[i, :] /= np.sum(data_given_cluster[i, :])\n",
    "\n",
    "        # Maximization step\n",
    "        # Estimate weights: w_m = Σ pm_i / N\n",
    "        weights = np.sum(data_given_cluster, axis=0) / len(dat)\n",
    "\n",
    "        # Estimate μ_m, σ_m, w_m\n",
    "        for m in range(k):\n",
    "            # Estimate means: μ_m = (1/n_m)(Σ pm_i * x_i)\n",
    "            weighted_sum = np.sum(data_given_cluster[:, m] * dat)\n",
    "            total_p_m = np.sum(data_given_cluster[:, m])\n",
    "            means[m] = weighted_sum / total_p_m\n",
    "\n",
    "            # Estimate variance: σ_m = (1/n_m)(Σ pm_i * (x_i - μ_m)^2)\n",
    "            diff = dat - means[m]\n",
    "            reshaped_p_m = data_given_cluster[:, m].reshape(-1, 1)\n",
    "            weighted_squared_diff = reshaped_p_m * diff ** 2\n",
    "            covars[m] = np.sum(weighted_squared_diff) / np.sum(data_given_cluster[:, m])\n",
    "\n",
    "            # Add small noise to variance to ensure positive definiteness\n",
    "            covars[m] += 1e-6\n",
    "\n",
    "    # Calculate the average distance to the cluster mean\n",
    "    mean_dist = np.zeros(k)\n",
    "    for m in range(k):\n",
    "        weighted_squared_distance = np.sum(data_given_cluster[:, m] * (dat - means[m]) ** 2)\n",
    "        mean_dist[m] = np.sqrt(weighted_squared_distance / len(dat))\n",
    "\n",
    "    return data_given_cluster, means, covars, weights, mean_dist"
   ]
  },
  {
   "cell_type": "code",
   "execution_count": null,
   "id": "5705b48c-69e5-4673-86c8-7c5519ffef8c",
   "metadata": {},
   "outputs": [],
   "source": [
    "data = filtered_migration_df[\"Deperature_Weekly_Avg(C)\"]\n",
    "data"
   ]
  },
  {
   "cell_type": "code",
   "execution_count": null,
   "id": "84bfa46a-4c6d-4672-92aa-f3f0cd572f07",
   "metadata": {},
   "outputs": [],
   "source": [
    "# Find the best number of clusters\n",
    "k_values = [1,2,3,4,5,6,7,8]\n",
    "gmm_data = []\n",
    "\n",
    "for k in k_values:\n",
    "    data_given_cluster, means, covars, weights, mean_dist = GMM(data, k)\n",
    "    gmm_data.append(np.mean(mean_dist))\n",
    "\n",
    "plt.plot(k_values, gmm_data, marker='o')\n",
    "plt.xlabel('Number of clusters (k)')\n",
    "plt.ylabel('Weighted Mean Distance to Component')\n",
    "plt.title('Elbow Plot')\n",
    "plt.grid(True, alpha=0.4 )\n",
    "plt.show()"
   ]
  }
 ],
 "metadata": {
  "kernelspec": {
   "display_name": "Python 3 (ipykernel)",
   "language": "python",
   "name": "python3"
  },
  "language_info": {
   "codemirror_mode": {
    "name": "ipython",
    "version": 3
   },
   "file_extension": ".py",
   "mimetype": "text/x-python",
   "name": "python",
   "nbconvert_exporter": "python",
   "pygments_lexer": "ipython3",
   "version": "3.12.2"
  }
 },
 "nbformat": 4,
 "nbformat_minor": 5
}
